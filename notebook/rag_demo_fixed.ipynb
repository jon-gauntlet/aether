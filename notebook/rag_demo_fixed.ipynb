{
  "cells": [
    {
      "cell_type": "code",
      "execution_count": null,
      "metadata": {},
      "outputs": [],
      "source": "import sys\nfrom pathlib import Path\nsys.path.append(str(Path.cwd().parent))\n\nfrom tools.rag.data_prep import create_langchain_documents\n\n# Load documents\ndocuments = create_langchain_documents()\nprint(f\"Loaded {len(documents)} documents\")\n\n# Display first document as example\nprint(\"\nExample document:\")\nprint(f\"Content: {documents[0].page_content}\")\nprint(f\"Metadata: {documents[0].metadata}\")"
    }
  ],
  "metadata": {
    "kernelspec": {
      "display_name": "Python 3",
      "language": "python",
      "name": "python3"
    },
    "language_info": {
      "codemirror_mode": {
        "name": "ipython",
        "version": 3
      },
      "file_extension": ".py",
      "mimetype": "text/x-python",
      "name": "python",
      "nbconvert_exporter": "python",
      "pygments_lexer": "ipython3",
      "version": "3.13.1"
    }
  },
  "nbformat": 4,
  "nbformat_minor": 4
}