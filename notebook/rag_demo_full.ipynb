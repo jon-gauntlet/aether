{
 "cells": [
  {
   "cell_type": "markdown",
   "metadata": {},
   "source": [
    "# RAG System Demo\n",
    "\n",
    "This notebook demonstrates the RAG system for Aether chat features.\n",
    "\n",
    "## Contents\n",
    "1. Setup & Imports\n",
    "2. Loading Chat Data\n",
    "3. Document Processing\n",
    "4. Semantic Search\n",
    "5. Question Answering"
   ]
  },
  {
   "cell_type": "code",
   "execution_count": null,
   "metadata": {},
   "outputs": [],
   "source": [
    "import os\n",
    "from dotenv import load_dotenv\n",
    "from langchain_openai import OpenAIEmbeddings, ChatOpenAI\n",
    "from langchain.chains import RetrievalQA\n",
    "from langchain_community.vectorstores import FAISS\n",
    "\n",
    "# Load environment variables\n",
    "load_dotenv()\n",
    "\n",
    "# Initialize OpenAI components\n",
    "embeddings = OpenAIEmbeddings()\n",
    "llm = ChatOpenAI(temperature=0)\n",
    "print(\"OpenAI components initialized!\")"
   ]
  },
  {
   "cell_type": "code",
   "execution_count": null,
   "metadata": {},
   "outputs": [],
   "source": [
    "from tools.rag.data_prep import create_langchain_documents\n",
    "\n",
    "# Load documents\n",
    "documents = create_langchain_documents()\n",
    "print(f\"Loaded {len(documents)} documents\")\n",
    "\n",
    "# Display first document as example\n",
    "print(\"\n",
    "Example document:\")\n",
    "print(f\"Content: {documents[0].page_content}\")\n",
    "print(f\"Metadata: {documents[0].metadata}\")"
   ]
  }
 ],
 "metadata": {
  "kernelspec": {
   "display_name": "Python 3 (ipykernel)",
   "language": "python",
   "name": "python3"
  },
  "language_info": {
   "codemirror_mode": {
    "name": "ipython",
    "version": 3
   },
   "file_extension": ".py",
   "mimetype": "text/x-python",
   "name": "python",
   "nbconvert_exporter": "python",
   "pygments_lexer": "ipython3",
   "version": "3.13.1"
  }
 },
 "nbformat": 4,
 "nbformat_minor": 4
}
